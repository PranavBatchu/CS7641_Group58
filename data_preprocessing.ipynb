{
 "cells": [
  {
   "cell_type": "code",
   "execution_count": 45,
   "id": "68192ed3",
   "metadata": {},
   "outputs": [
    {
     "name": "stdout",
     "output_type": "stream",
     "text": [
      "Requirement already satisfied: pandas in /Users/ahaanlimaye/anaconda3/lib/python3.11/site-packages (1.5.3)\n",
      "Requirement already satisfied: python-dateutil>=2.8.1 in /Users/ahaanlimaye/anaconda3/lib/python3.11/site-packages (from pandas) (2.8.2)\n",
      "Requirement already satisfied: pytz>=2020.1 in /Users/ahaanlimaye/anaconda3/lib/python3.11/site-packages (from pandas) (2022.7)\n",
      "Requirement already satisfied: numpy>=1.21.0 in /Users/ahaanlimaye/anaconda3/lib/python3.11/site-packages (from pandas) (1.24.3)\n",
      "Requirement already satisfied: six>=1.5 in /Users/ahaanlimaye/anaconda3/lib/python3.11/site-packages (from python-dateutil>=2.8.1->pandas) (1.16.0)\n",
      "\n",
      "\u001b[1m[\u001b[0m\u001b[34;49mnotice\u001b[0m\u001b[1;39;49m]\u001b[0m\u001b[39;49m A new release of pip is available: \u001b[0m\u001b[31;49m24.2\u001b[0m\u001b[39;49m -> \u001b[0m\u001b[32;49m24.3.1\u001b[0m\n",
      "\u001b[1m[\u001b[0m\u001b[34;49mnotice\u001b[0m\u001b[1;39;49m]\u001b[0m\u001b[39;49m To update, run: \u001b[0m\u001b[32;49mpip install --upgrade pip\u001b[0m\n",
      "Requirement already satisfied: numpy in /Users/ahaanlimaye/anaconda3/lib/python3.11/site-packages (1.24.3)\n",
      "\n",
      "\u001b[1m[\u001b[0m\u001b[34;49mnotice\u001b[0m\u001b[1;39;49m]\u001b[0m\u001b[39;49m A new release of pip is available: \u001b[0m\u001b[31;49m24.2\u001b[0m\u001b[39;49m -> \u001b[0m\u001b[32;49m24.3.1\u001b[0m\n",
      "\u001b[1m[\u001b[0m\u001b[34;49mnotice\u001b[0m\u001b[1;39;49m]\u001b[0m\u001b[39;49m To update, run: \u001b[0m\u001b[32;49mpip install --upgrade pip\u001b[0m\n"
     ]
    }
   ],
   "source": [
    "!pip install pandas\n",
    "!pip install numpy"
   ]
  },
  {
   "cell_type": "code",
   "execution_count": 46,
   "id": "57de1f47",
   "metadata": {},
   "outputs": [],
   "source": [
    "import pandas as pd\n",
    "import numpy as np"
   ]
  },
  {
   "cell_type": "code",
   "execution_count": 47,
   "id": "c16e0914",
   "metadata": {},
   "outputs": [
    {
     "name": "stdout",
     "output_type": "stream",
     "text": [
      "Initial Data Snapshot:\n",
      "     id  team_a_mot_x_pos  team_b_mot_x_pos  team_a_ppg_dif_l4  \\\n",
      "0  2215              0.15              0.12           0.888889   \n",
      "1  2216              0.15              0.14           2.000000   \n",
      "2  2217              0.12              0.11          12.000000   \n",
      "3  2218              0.17              0.10           2.000000   \n",
      "4  2219              0.13              0.11           0.333333   \n",
      "\n",
      "   team_a_ppg_dif_l6  team_b_ppg_dif_l4  team_b_ppg_dif_l6  \\\n",
      "0                1.0                1.0                1.0   \n",
      "1                1.0                0.6                1.0   \n",
      "2                1.0                1.5                1.0   \n",
      "3                1.0                1.6                1.0   \n",
      "4                1.0                1.0                1.0   \n",
      "\n",
      "   team_a_ratio_shotsOnTarget_overall  team_a_ratio_shotsOnTarget_l4  \\\n",
      "0                            0.545455                       0.534483   \n",
      "1                            0.397059                       0.441176   \n",
      "2                            0.441860                       0.458333   \n",
      "3                            0.442308                       0.361111   \n",
      "4                            0.523077                       0.581818   \n",
      "\n",
      "   team_a_ratio_shotsOnTarget_l6  ...  team_b_shots_overall_l6_TSR  HomeWin  \\\n",
      "0                       0.545455  ...                         0.49        0   \n",
      "1                       0.397059  ...                         0.59        0   \n",
      "2                       0.441860  ...                         0.66        0   \n",
      "3                       0.442308  ...                         0.58        0   \n",
      "4                       0.523077  ...                         0.42        0   \n",
      "\n",
      "   Draw  AwayWin  odds_ft_1  odds_ft_x  odds_ft_2  profit_1  profit_x  \\\n",
      "0     1        0       1.83       3.70       4.66    -100.0     270.0   \n",
      "1     0        1       6.49       4.43       1.54    -100.0    -100.0   \n",
      "2     0        1       7.50       4.58       1.47    -100.0    -100.0   \n",
      "3     1        0       2.64       3.26       2.90    -100.0     226.0   \n",
      "4     1        0       2.29       3.42       3.32    -100.0     242.0   \n",
      "\n",
      "   profit_2  \n",
      "0    -100.0  \n",
      "1      54.0  \n",
      "2      47.0  \n",
      "3    -100.0  \n",
      "4    -100.0  \n",
      "\n",
      "[5 rows x 45 columns]\n"
     ]
    }
   ],
   "source": [
    "# load the dataset\n",
    "data = pd.read_csv('train_dataset.csv', delimiter=';')\n",
    "\n",
    "# display the first few rows to verify the data is loaded correctly\n",
    "print(\"Initial Data Snapshot:\")\n",
    "print(data.head())"
   ]
  },
  {
   "cell_type": "code",
   "execution_count": 48,
   "id": "1536143e",
   "metadata": {},
   "outputs": [
    {
     "name": "stdout",
     "output_type": "stream",
     "text": [
      "\n",
      "Outcome Column Distribution:\n",
      "0    25087\n",
      "2    17371\n",
      "1    15361\n",
      "Name: Outcome, dtype: int64\n"
     ]
    }
   ],
   "source": [
    "# combine HomeWin, Draw, and AwayWin into a single Outcome column\n",
    "def get_outcome(row):\n",
    "    if row['HomeWin'] == 1:\n",
    "        return 0  # Home Win\n",
    "    elif row['Draw'] == 1:\n",
    "        return 1  # Draw\n",
    "    else:\n",
    "        return 2  # Away Win\n",
    "    \n",
    "data['Outcome'] = data.apply(get_outcome, axis=1)\n",
    "\n",
    "\n",
    "# Verify the new 'Outcome' column\n",
    "print(\"\\nOutcome Column Distribution:\")\n",
    "print(data['Outcome'].value_counts())"
   ]
  },
  {
   "cell_type": "code",
   "execution_count": 49,
   "id": "e851c2a1",
   "metadata": {},
   "outputs": [],
   "source": [
    "# drop unneccessary columns\n",
    "columns_to_drop = ['profit_1', 'profit_x', 'profit_2', 'HomeWin', 'Draw', 'AwayWin']\n",
    "data = data.drop(columns=columns_to_drop, axis=1)"
   ]
  },
  {
   "cell_type": "code",
   "execution_count": 50,
   "id": "f938ec69",
   "metadata": {},
   "outputs": [
    {
     "name": "stdout",
     "output_type": "stream",
     "text": [
      "Missing values after dropping rows:\n",
      "id                                    0\n",
      "team_a_mot_x_pos                      0\n",
      "team_b_mot_x_pos                      0\n",
      "team_a_ppg_dif_l4                     0\n",
      "team_a_ppg_dif_l6                     0\n",
      "team_b_ppg_dif_l4                     0\n",
      "team_b_ppg_dif_l6                     0\n",
      "team_a_ratio_shotsOnTarget_overall    0\n",
      "team_a_ratio_shotsOnTarget_l4         0\n",
      "team_a_ratio_shotsOnTarget_l6         0\n",
      "team_b_ratio_shotsOnTarget_overall    0\n",
      "team_b_ratio_shotsOnTarget_l4         0\n",
      "team_b_ratio_shotsOnTarget_l6         0\n",
      "predict_xg_overall_team_a             0\n",
      "predict_xg_overall_team_b             0\n",
      "predict_xg_home_team_a                0\n",
      "predict_xg_away_team_b                0\n",
      "team_a_xg_last4_prematch              0\n",
      "team_b_xg_last4_prematch              0\n",
      "team_a_xga_last4_prematch             0\n",
      "team_b_xga_last4_prematch             0\n",
      "position_a_prematch                   0\n",
      "position_b_prematch                   0\n",
      "division                              0\n",
      "team_a_shots_average                  0\n",
      "team_b_shots_average                  0\n",
      "team_a_shots_average_l4               0\n",
      "team_b_shots_average_l4               0\n",
      "team_a_shots_average_l6               0\n",
      "team_b_shots_average_l6               0\n",
      "team_a_shots_overall_TSR              0\n",
      "team_b_shots_overall_TSR              0\n",
      "team_a_shots_overall_l4_TSR           0\n",
      "team_b_shots_overall_l4_TSR           0\n",
      "team_a_shots_overall_l6_TSR           0\n",
      "team_b_shots_overall_l6_TSR           0\n",
      "odds_ft_1                             0\n",
      "odds_ft_x                             0\n",
      "odds_ft_2                             0\n",
      "Outcome                               0\n",
      "dtype: int64\n"
     ]
    }
   ],
   "source": [
    "# Drop rows with any missing values\n",
    "data = data.dropna()\n",
    "# Verify that there are no missing values\n",
    "print(\"Missing values after dropping rows:\")\n",
    "print(data.isnull().sum())"
   ]
  },
  {
   "cell_type": "code",
   "execution_count": 51,
   "id": "748a51b6",
   "metadata": {},
   "outputs": [
    {
     "name": "stdout",
     "output_type": "stream",
     "text": [
      "Requirement already satisfied: scikit-learn in /Users/ahaanlimaye/anaconda3/lib/python3.11/site-packages (1.2.2)\n",
      "Requirement already satisfied: numpy>=1.17.3 in /Users/ahaanlimaye/anaconda3/lib/python3.11/site-packages (from scikit-learn) (1.24.3)\n",
      "Requirement already satisfied: scipy>=1.3.2 in /Users/ahaanlimaye/anaconda3/lib/python3.11/site-packages (from scikit-learn) (1.10.1)\n",
      "Requirement already satisfied: joblib>=1.1.1 in /Users/ahaanlimaye/anaconda3/lib/python3.11/site-packages (from scikit-learn) (1.2.0)\n",
      "Requirement already satisfied: threadpoolctl>=2.0.0 in /Users/ahaanlimaye/anaconda3/lib/python3.11/site-packages (from scikit-learn) (2.2.0)\n",
      "\n",
      "\u001b[1m[\u001b[0m\u001b[34;49mnotice\u001b[0m\u001b[1;39;49m]\u001b[0m\u001b[39;49m A new release of pip is available: \u001b[0m\u001b[31;49m24.2\u001b[0m\u001b[39;49m -> \u001b[0m\u001b[32;49m24.3.1\u001b[0m\n",
      "\u001b[1m[\u001b[0m\u001b[34;49mnotice\u001b[0m\u001b[1;39;49m]\u001b[0m\u001b[39;49m To update, run: \u001b[0m\u001b[32;49mpip install --upgrade pip\u001b[0m\n"
     ]
    }
   ],
   "source": [
    "!pip install scikit-learn"
   ]
  },
  {
   "cell_type": "code",
   "execution_count": 52,
   "id": "d6d3a4e5",
   "metadata": {},
   "outputs": [],
   "source": [
    "from sklearn.preprocessing import StandardScaler"
   ]
  },
  {
   "cell_type": "code",
   "execution_count": 53,
   "id": "01fe1cac",
   "metadata": {},
   "outputs": [],
   "source": [
    "# exclude 'id' and 'Outcome' from features to be scaled\n",
    "features_to_scale = [col for col in data.columns if data[col].dtype in ['float64', 'int64'] and col not in ['id', 'Outcome']]\n",
    "scaler = StandardScaler()\n",
    "data[features_to_scale] = scaler.fit_transform(data[features_to_scale])"
   ]
  },
  {
   "cell_type": "code",
   "execution_count": 54,
   "id": "eba09198",
   "metadata": {},
   "outputs": [],
   "source": [
    "# prepare final datasets\n",
    "X = data.drop(['id', 'Outcome'], axis=1)\n",
    "y = data['Outcome']\n",
    "ids = data['id']"
   ]
  }
 ],
 "metadata": {
  "kernelspec": {
   "display_name": "Python 3 (ipykernel)",
   "language": "python",
   "name": "python3"
  },
  "language_info": {
   "codemirror_mode": {
    "name": "ipython",
    "version": 3
   },
   "file_extension": ".py",
   "mimetype": "text/x-python",
   "name": "python",
   "nbconvert_exporter": "python",
   "pygments_lexer": "ipython3",
   "version": "3.11.3"
  }
 },
 "nbformat": 4,
 "nbformat_minor": 5
}
