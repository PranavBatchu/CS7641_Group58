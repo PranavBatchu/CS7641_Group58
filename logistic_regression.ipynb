{
 "cells": [
  {
   "cell_type": "code",
   "execution_count": 4,
   "metadata": {},
   "outputs": [
    {
     "name": "stdout",
     "output_type": "stream",
     "text": [
      "Requirement already satisfied: pandas in /Users/aryan/miniconda3/envs/ml_hw2/lib/python3.11/site-packages (2.2.2)\n",
      "Requirement already satisfied: numpy in /Users/aryan/miniconda3/envs/ml_hw2/lib/python3.11/site-packages (1.26.4)\n",
      "Requirement already satisfied: scikit-learn in /Users/aryan/miniconda3/envs/ml_hw2/lib/python3.11/site-packages (1.5.1)\n",
      "Requirement already satisfied: python-dateutil>=2.8.2 in /Users/aryan/miniconda3/envs/ml_hw2/lib/python3.11/site-packages (from pandas) (2.9.0.post0)\n",
      "Requirement already satisfied: pytz>=2020.1 in /Users/aryan/miniconda3/envs/ml_hw2/lib/python3.11/site-packages (from pandas) (2024.1)\n",
      "Requirement already satisfied: tzdata>=2022.7 in /Users/aryan/miniconda3/envs/ml_hw2/lib/python3.11/site-packages (from pandas) (2023.3)\n",
      "Requirement already satisfied: scipy>=1.6.0 in /Users/aryan/miniconda3/envs/ml_hw2/lib/python3.11/site-packages (from scikit-learn) (1.13.1)\n",
      "Requirement already satisfied: joblib>=1.2.0 in /Users/aryan/miniconda3/envs/ml_hw2/lib/python3.11/site-packages (from scikit-learn) (1.4.2)\n",
      "Requirement already satisfied: threadpoolctl>=3.1.0 in /Users/aryan/miniconda3/envs/ml_hw2/lib/python3.11/site-packages (from scikit-learn) (3.5.0)\n",
      "Requirement already satisfied: six>=1.5 in /Users/aryan/miniconda3/envs/ml_hw2/lib/python3.11/site-packages (from python-dateutil>=2.8.2->pandas) (1.16.0)\n"
     ]
    }
   ],
   "source": [
    "#install libraries\n",
    "!pip install pandas numpy scikit-learn\n",
    "\n",
    "#import libraries\n",
    "import pandas as pd\n",
    "import numpy as np\n",
    "from sklearn.svm import SVC\n",
    "from sklearn.metrics import accuracy_score, classification_report, confusion_matrix\n",
    "from sklearn.preprocessing import StandardScaler\n",
    "from sklearn.decomposition import PCA\n",
    "from sklearn.ensemble import RandomForestClassifier\n",
    "from sklearn.linear_model import LogisticRegression\n",
    "from sklearn.ensemble import GradientBoostingClassifier\n",
    "from sklearn.model_selection import train_test_split "
   ]
  },
  {
   "cell_type": "code",
   "execution_count": 5,
   "metadata": {},
   "outputs": [],
   "source": [
    "#load dataset\n",
    "df = pd.read_csv('train_dataset_preprocessed.csv')\n",
    "\n",
    "#prepare data\n",
    "X = df.drop(['Outcome'], axis=1)\n",
    "y = df['Outcome']"
   ]
  },
  {
   "cell_type": "code",
   "execution_count": 6,
   "metadata": {},
   "outputs": [],
   "source": [
    "#training vs testing split\n",
    "X_train, X_test, y_train, y_test = train_test_split(X, y, test_size=0.3, random_state=42)"
   ]
  },
  {
   "cell_type": "code",
   "execution_count": 7,
   "metadata": {},
   "outputs": [],
   "source": [
    "#standardized features needed for svm - alr did in preprocessing\n",
    "\n",
    "svm = SVC(kernel='linear', C = 1.0, random_state = 42) #init model\n",
    "\n",
    "rf = RandomForestClassifier(n_estimators=300, random_state=42)\n",
    "\n",
    "log_reg = LogisticRegression(multi_class='multinomial', max_iter=1000)\n",
    "\n",
    "gbc = GradientBoostingClassifier(\n",
    "    n_estimators = 100,\n",
    "    max_depth=50,\n",
    "    learning_rate=0.1,\n",
    "    random_state=42\n",
    ")\n"
   ]
  },
  {
   "cell_type": "code",
   "execution_count": 11,
   "metadata": {},
   "outputs": [
    {
     "name": "stderr",
     "output_type": "stream",
     "text": [
      "/Users/aryan/miniconda3/envs/ml_hw2/lib/python3.11/site-packages/sklearn/linear_model/_logistic.py:1247: FutureWarning: 'multi_class' was deprecated in version 1.5 and will be removed in 1.7. From then on, it will always use 'multinomial'. Leave it to its default value to avoid this warning.\n",
      "  warnings.warn(\n"
     ]
    }
   ],
   "source": [
    "#predictions\n",
    "log_reg.fit(X_train, y_train)\n",
    "y_pred = log_reg.predict(X_test)"
   ]
  },
  {
   "cell_type": "code",
   "execution_count": 13,
   "metadata": {},
   "outputs": [
    {
     "name": "stdout",
     "output_type": "stream",
     "text": [
      "Accuracy: 1.0\n",
      "Confusion Matrix:\n",
      "[[7501    0    0]\n",
      " [   0 4628    0]\n",
      " [   0    0 5206]]\n",
      "Classification Report:\n",
      "              precision    recall  f1-score   support\n",
      "\n",
      "           0       1.00      1.00      1.00      7501\n",
      "           1       1.00      1.00      1.00      4628\n",
      "           2       1.00      1.00      1.00      5206\n",
      "\n",
      "    accuracy                           1.00     17335\n",
      "   macro avg       1.00      1.00      1.00     17335\n",
      "weighted avg       1.00      1.00      1.00     17335\n",
      "\n"
     ]
    }
   ],
   "source": [
    "#evaluation\n",
    "acc = accuracy_score(y_test, y_pred)\n",
    "cm = confusion_matrix(y_test, y_pred)\n",
    "class_report = classification_report(y_test, y_pred)\n",
    "\n",
    "print(f'Accuracy: {acc}')\n",
    "print('Confusion Matrix:')\n",
    "print(cm)\n",
    "print('Classification Report:')\n",
    "print(class_report)"
   ]
  }
 ],
 "metadata": {
  "kernelspec": {
   "display_name": "Python 3.11.10",
   "language": "python",
   "name": "python3"
  },
  "language_info": {
   "codemirror_mode": {
    "name": "ipython",
    "version": 3
   },
   "file_extension": ".py",
   "mimetype": "text/x-python",
   "name": "python",
   "nbconvert_exporter": "python",
   "pygments_lexer": "ipython3",
   "version": "3.11.10"
  },
  "vscode": {
   "interpreter": {
    "hash": "730a76b622a8b804ba9aaa062530204de91472efa42e5fb6d5f653afd32a7b10"
   }
  }
 },
 "nbformat": 4,
 "nbformat_minor": 2
}
